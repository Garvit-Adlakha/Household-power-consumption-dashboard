{
 "cells": [
  {
   "cell_type": "code",
   "execution_count": null,
   "id": "9e285aa0-f5fb-4a27-925e-df3f802b4c03",
   "metadata": {},
   "outputs": [
    {
     "ename": "",
     "evalue": "",
     "output_type": "error",
     "traceback": [
      "\u001b[1;31mRunning cells with 'Python 3.10.17' requires the ipykernel package.\n",
      "\u001b[1;31m<a href='command:jupyter.createPythonEnvAndSelectController'>Create a Python Environment</a> with the required packages."
     ]
    }
   ],
   "source": [
    "# STEP 1: Import libraries\n",
    "import pandas as pd\n",
    "import matplotlib.pyplot as plt\n",
    "import seaborn as sns\n",
    "import numpy as np\n",
    "from sklearn.ensemble import IsolationForest\n",
    "from sklearn.preprocessing import StandardScaler\n",
    "from sklearn.metrics import classification_report, roc_auc_score\n",
    "import joblib"
   ]
  },
  {
   "cell_type": "code",
   "execution_count": null,
   "id": "c97541b5-24b8-4d5d-9a72-bea6ad2241bd",
   "metadata": {},
   "outputs": [],
   "source": [
    "# STEP 2: Load the dataset\n",
    "file_path = 'household_power_consumption.txt'\n",
    "df = pd.read_csv(file_path, sep=';', na_values='?', low_memory=False)"
   ]
  },
  {
   "cell_type": "code",
   "execution_count": null,
   "id": "bda0bfcb-f608-4d63-9ba2-d722ca64b0f1",
   "metadata": {},
   "outputs": [],
   "source": [
    "# Step 3: Preprocess\n",
    "df['Datetime'] = pd.to_datetime(df['Date'] + ' ' + df['Time'], format='%d/%m/%Y %H:%M:%S', errors='coerce')\n",
    "df.drop(columns=['Date', 'Time'], inplace=True)\n",
    "\n",
    "# Convert to numeric (include error coercion to catch non-numeric)\n",
    "for col in df.columns:\n",
    "    if col != 'Datetime':\n",
    "        df[col] = pd.to_numeric(df[col], errors='coerce')\n",
    "\n",
    "# Drop any rows with NaNs AFTER all conversion\n",
    "df.dropna(inplace=True)"
   ]
  },
  {
   "cell_type": "code",
   "execution_count": null,
   "id": "153e0b48-b1b9-4b83-bde8-242342eeb9b7",
   "metadata": {},
   "outputs": [],
   "source": [
    "# Step 4: Visualize\n",
    "plt.figure(figsize=(10, 6))\n",
    "sns.boxplot(data=df[['Global_active_power', 'Global_reactive_power', 'Voltage']])\n",
    "plt.title(\"Boxplot of Power Features\")\n",
    "plt.show()"
   ]
  },
  {
   "cell_type": "code",
   "execution_count": null,
   "id": "5dbc74fe-3a05-4516-8861-82c670c84ea2",
   "metadata": {},
   "outputs": [],
   "source": [
    "# Step 5: Isolation Forest for Anomaly Detection\n",
    "features = ['Global_active_power', 'Global_reactive_power', 'Voltage', \n",
    "            'Global_intensity', 'Sub_metering_1', 'Sub_metering_2', 'Sub_metering_3']\n",
    "\n",
    "X = df[features]\n",
    "scaler = StandardScaler()\n",
    "X_scaled = scaler.fit_transform(X)"
   ]
  },
  {
   "cell_type": "code",
   "execution_count": null,
   "id": "5cc2e115-52cb-4031-92bd-651a0457a105",
   "metadata": {},
   "outputs": [],
   "source": [
    "# Train the model\n",
    "model = IsolationForest(n_estimators=100, contamination=0.01, random_state=42)\n",
    "model.fit(X_scaled)"
   ]
  },
  {
   "cell_type": "code",
   "execution_count": null,
   "id": "c4b3a604-d66c-4128-9eac-0a2a7873c654",
   "metadata": {},
   "outputs": [],
   "source": [
    "# Predict\n",
    "df['anomaly'] = model.predict(X_scaled)\n",
    "df['anomaly'] = df['anomaly'].map({1: 0, -1: 1})  # 1 means anomaly now"
   ]
  },
  {
   "cell_type": "code",
   "execution_count": null,
   "id": "e792f7a0-f2c2-4039-9f9d-ba6c3f8c3115",
   "metadata": {},
   "outputs": [],
   "source": [
    "# Step 6: Visualize anomalies over time\n",
    "plt.figure(figsize=(12, 6))\n",
    "plt.plot(df['Datetime'], df['Global_active_power'], label='Global Active Power', alpha=0.7)\n",
    "plt.scatter(df[df['anomaly'] == 1]['Datetime'], df[df['anomaly'] == 1]['Global_active_power'], \n",
    "            color='red', label='Anomaly', s=10)\n",
    "plt.title(\"Anomalies in Global Active Power\")\n",
    "plt.xlabel(\"Datetime\")\n",
    "plt.ylabel(\"Global Active Power\")\n",
    "plt.legend()\n",
    "plt.show()"
   ]
  },
  {
   "cell_type": "code",
   "execution_count": null,
   "id": "01328a4c-4da4-40ed-a35b-e25b95789f1f",
   "metadata": {},
   "outputs": [],
   "source": [
    "# Step 7: Save model and scaler\n",
    "joblib.dump(model, 'isolation_forest_model.pkl')\n",
    "joblib.dump(scaler, 'scaler.pkl')"
   ]
  }
 ],
 "metadata": {
  "kernelspec": {
   "display_name": "Python 3",
   "language": "python",
   "name": "python3"
  },
  "language_info": {
   "codemirror_mode": {
    "name": "ipython",
    "version": 3
   },
   "file_extension": ".py",
   "mimetype": "text/x-python",
   "name": "python",
   "nbconvert_exporter": "python",
   "pygments_lexer": "ipython3",
   "version": "3.10.17"
  }
 },
 "nbformat": 4,
 "nbformat_minor": 5
}
